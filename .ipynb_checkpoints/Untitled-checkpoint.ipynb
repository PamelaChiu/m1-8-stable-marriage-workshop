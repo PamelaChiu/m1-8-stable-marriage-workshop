{
 "cells": [
  {
   "cell_type": "code",
   "execution_count": 5,
   "metadata": {},
   "outputs": [
    {
     "data": {
      "text/plain": [
       "{0: 0, 2: 1, 1: 2, 3: 3}"
      ]
     },
     "execution_count": 5,
     "metadata": {},
     "output_type": "execute_result"
    }
   ],
   "source": [
    "class Man:\n",
    "    def __init__(self, id, preference_list):\n",
    "        self.id = id\n",
    "        self.preference_list = preference_list\n",
    "        self.next_propose=0\n",
    "    def __repr__(self):\n",
    "        return {self.id:self.preference_list}\n",
    "    \n",
    "    def preference(self):\n",
    "        return self.preference_list[self.next_propose]\n",
    "    \n",
    "    def rejection(self):\n",
    "        self.next_propose+=1\n",
    "\n",
    "class Woman:\n",
    "    def __init__(self, id, preference_list):\n",
    "        self.id = id\n",
    "        self.preference_list = preference_list\n",
    "        self.suitors = set()\n",
    "        self.index = 0\n",
    "        self.husband = None \n",
    "        \n",
    "    def __repr__(self):\n",
    "        return {self.id:self.preference_list}\n",
    "    \n",
    "    def add_suitors(self,suitor):\n",
    "        self.suitors.add(suitor)\n",
    "    \n",
    "    def reject(self):\n",
    "        self.husband =  min(\n",
    "        self.suitors,\n",
    "        key=lambda suitor: self.preference_list.index(suitor.id))\n",
    "        \n",
    "        \n",
    "        rejected = self.suitors - set([self.husband])\n",
    "        self.suitors = set([self.husband])\n",
    "        return rejected\n",
    "    \n",
    "def stable_marriage(men,women):\n",
    "    unassigned = set(men)\n",
    "    unassigned1 = set(women)\n",
    "    while len(unassigned)> 0:\n",
    "        for guy in unassigned:\n",
    "            next_proposed_to = women[guy.preference()]\n",
    "            next_proposed_to.add_suitors(guy)\n",
    "        unassigned = set()\n",
    "        for lady in women:\n",
    "            unassigned = unassigned.union(lady.reject())\n",
    "        for guy in unassigned:\n",
    "            guy.rejection()\n",
    "    return dict([(w.husband.id, w.id) for w in women])\n",
    "\n",
    "men = [\n",
    "    Man(id=0, preference_list=[0,1,2,3]),\n",
    "    Man(id=1, preference_list=[2,3,0,1]),\n",
    "    Man(id=2, preference_list=[1,0,3,2]),\n",
    "    Man(id=3, preference_list=[3,2,1,0]),\n",
    "]\n",
    "\n",
    "women = [\n",
    "    Woman(id=0, preference_list=[0,1,2,3]),\n",
    "    Woman(id=1, preference_list=[2,3,0,1]),\n",
    "    Woman(id=2, preference_list=[1,0,3,2]),\n",
    "    Woman(id=3, preference_list=[3,2,1,0]),\n",
    "]\n",
    "stable_marriage(men,women) "
   ]
  },
  {
   "cell_type": "code",
   "execution_count": null,
   "metadata": {},
   "outputs": [],
   "source": []
  },
  {
   "cell_type": "code",
   "execution_count": null,
   "metadata": {},
   "outputs": [],
   "source": []
  }
 ],
 "metadata": {
  "kernelspec": {
   "display_name": "Python 3",
   "language": "python",
   "name": "python3"
  },
  "language_info": {
   "codemirror_mode": {
    "name": "ipython",
    "version": 3
   },
   "file_extension": ".py",
   "mimetype": "text/x-python",
   "name": "python",
   "nbconvert_exporter": "python",
   "pygments_lexer": "ipython3",
   "version": "3.8.3"
  }
 },
 "nbformat": 4,
 "nbformat_minor": 4
}
